{
 "cells": [
  {
   "cell_type": "code",
   "execution_count": 1,
   "id": "b2034062-ba0a-4a88-af14-24ca1a9b9abe",
   "metadata": {},
   "outputs": [],
   "source": [
    "import warnings\n",
    "warnings.filterwarnings('ignore')"
   ]
  },
  {
   "cell_type": "code",
   "execution_count": 2,
   "id": "84356802-71bf-4309-903d-7fb30cad511b",
   "metadata": {},
   "outputs": [],
   "source": [
    "from langchain_ollama import OllamaLLM\n",
    "from langchain_core.prompts import ChatPromptTemplate"
   ]
  },
  {
   "cell_type": "code",
   "execution_count": 3,
   "id": "39682541-840c-43fe-8b28-55043c18f02a",
   "metadata": {},
   "outputs": [],
   "source": [
    "import os\n",
    "from dotenv import load_dotenv\n",
    "from langchain_google_genai import GoogleGenerativeAIEmbeddings\n",
    "import google.generativeai as genai\n",
    "from PyPDF2 import PdfReader\n",
    "from langchain.vectorstores import FAISS\n",
    "from sklearn.metrics.pairwise import cosine_similarity"
   ]
  },
  {
   "cell_type": "code",
   "execution_count": 4,
   "id": "a1d458bd-e14a-4afa-af9e-9cf2414b6654",
   "metadata": {},
   "outputs": [],
   "source": [
    "from langchain.chains.combine_documents import create_stuff_documents_chain\n",
    "from langchain.chains import create_retrieval_chain"
   ]
  },
  {
   "cell_type": "code",
   "execution_count": 5,
   "id": "c7d9deb4-8b9e-41ba-bf5e-f051b9135807",
   "metadata": {},
   "outputs": [],
   "source": [
    "import numpy as np"
   ]
  },
  {
   "cell_type": "code",
   "execution_count": 6,
   "id": "b40852f0-0c1a-4654-929b-2da59385c7ea",
   "metadata": {},
   "outputs": [],
   "source": [
    "import tensorflow as tf\n",
    "import pickle\n",
    "from emotion_classifer import EmotionClassifier"
   ]
  },
  {
   "cell_type": "code",
   "execution_count": 7,
   "id": "d64c406f-eeee-430e-8699-a1b688bb05fa",
   "metadata": {},
   "outputs": [],
   "source": [
    "load_dotenv()\n",
    "os.getenv(\"GOOGLE_API_KEY\")\n",
    "genai.configure(api_key=os.getenv(\"GOOGLE_API_KEY\"))"
   ]
  },
  {
   "cell_type": "code",
   "execution_count": 8,
   "id": "f5277851-ce55-4bd2-b6d4-b31eacfb23ef",
   "metadata": {},
   "outputs": [],
   "source": [
    "def extract_text(pdf_folder):\n",
    "    documents = []\n",
    "    for filename in os.listdir(pdf_folder):\n",
    "        if filename.endswith('.pdf'):\n",
    "            pdf_path = os.path.join(pdf_folder, filename)\n",
    "            with open(pdf_path, 'rb') as file:\n",
    "                reader = PdfReader(file)\n",
    "                text = ''\n",
    "                for page in reader.pages:\n",
    "                    text += page.extract_text() + '\\n'\n",
    "                documents.append({\"id\": filename, \"content\": text.strip()})\n",
    "    \n",
    "    return documents\n",
    "\n",
    "pdf_folder = 'E:\\\\Mental Health Chatbot\\\\Mental-Health-Chatbot\\\\docs'\n",
    "documents = extract_text(pdf_folder)\n",
    "\n",
    "#documents"
   ]
  },
  {
   "cell_type": "code",
   "execution_count": 9,
   "id": "83e35780-59be-4d82-85b8-1e7e1631b626",
   "metadata": {},
   "outputs": [],
   "source": [
    "embeddings = GoogleGenerativeAIEmbeddings(model = \"models/embedding-001\")\n",
    "convo_data = [doc[\"content\"] for doc in documents]\n",
    "vectorstore = FAISS.from_texts([doc[\"content\"] for doc in documents], embeddings)"
   ]
  },
  {
   "cell_type": "code",
   "execution_count": 10,
   "id": "1a8b255b-170c-4869-b62f-228d77138838",
   "metadata": {},
   "outputs": [
    {
     "data": {
      "text/plain": [
       "<langchain_community.vectorstores.faiss.FAISS at 0x1fd7b8bd220>"
      ]
     },
     "execution_count": 10,
     "metadata": {},
     "output_type": "execute_result"
    }
   ],
   "source": [
    "vectorstore"
   ]
  },
  {
   "cell_type": "code",
   "execution_count": 31,
   "id": "f5cfc682-5ca6-4b50-ac9c-d10bb0a4070f",
   "metadata": {},
   "outputs": [],
   "source": [
    "retriever = vectorstore.as_retriever(search_type=\"similarity\", search_kwargs={\"k\": 6})"
   ]
  },
  {
   "cell_type": "code",
   "execution_count": 32,
   "id": "8e521810-5af7-4528-b3a1-a3abe740e629",
   "metadata": {},
   "outputs": [],
   "source": [
    "llm = OllamaLLM(model = \"llama2\")"
   ]
  },
  {
   "cell_type": "code",
   "execution_count": 37,
   "id": "233888a6-1453-4cca-93ac-9f7cc1d7d739",
   "metadata": {},
   "outputs": [],
   "source": [
    "template ='''\n",
    "You are assisting with the Diagnosis of Thought methodology.\n",
    "\n",
    "Start by separating the objective truth or facts from the subjective thoughts in the user-provided statement.\n",
    "Do not mention this in the response\n",
    "\n",
    "For the second step, provide reasoning that both supports the subjective thought and contradicts it.\n",
    "Answer in the following way:\n",
    "\"You are feeling this way because (supportive reasoning), but (contradictive reasoning).\"\n",
    "\n",
    "Now, move on to the Schema Analysis stage. Identify any underlying schemas or patterns that might influence the \n",
    "approach or thoughts related to the statement.\n",
    "Do not mention this in the response\n",
    "\n",
    "Using all this information, identify the cognitive distortion.\n",
    "\n",
    "Now, formulate an empathetic response, comforting the user, based on all the information you have gathered.\n",
    "Implement a conversational flow by asking follow-up questions to better understand their situation. Offer any coping \n",
    "techniques to help them feel better about their current state. Kep the conversation open and make them feel welcome \n",
    "to talk about their feelings.\n",
    "\n",
    "Here is the Mental Health Data: {therapy_data}\n",
    "\n",
    "Here is the conversation history: {context}\n",
    "\n",
    "User's Message: {input}\n",
    "\n",
    "Tone of the User's Message : {sentiment}\n",
    "\n",
    "User's current emotion : {emotion}\n",
    "\n",
    "Probelms the user is quite possibly struggling with: {problem}\n",
    "\n",
    "\n",
    "Answer:\n",
    "\n",
    "'''\n",
    "\n",
    "prompt = ChatPromptTemplate.from_template(template)"
   ]
  },
  {
   "cell_type": "code",
   "execution_count": 38,
   "id": "e0ca2415-81cf-4a60-a8f6-9533e0c4de32",
   "metadata": {},
   "outputs": [],
   "source": [
    "document_chain = create_stuff_documents_chain(llm, prompt)\n",
    "retrieval_chain = create_retrieval_chain(retriever, document_chain)"
   ]
  },
  {
   "cell_type": "code",
   "execution_count": 39,
   "id": "c5306e79-23e5-4900-9f75-a1834662263a",
   "metadata": {},
   "outputs": [],
   "source": [
    "def handle_conversation():\n",
    "\n",
    "    print(\"Mental Health Chatbot\")\n",
    "    \n",
    "    with open('E:\\\\Mental Health Chatbot\\\\Mental-Health-Chatbot\\\\tokenizer.pkl', 'rb') as handle:\n",
    "        tokenizer_sentiment = pickle.load(handle)\n",
    "\n",
    "    with open('E:\\\\Mental Health Chatbot\\\\Mental-Health-Chatbot\\\\tokenizer_five.pkl', 'rb') as handle:\n",
    "        tokenizer_emotion = pickle.load(handle)  \n",
    "\n",
    "    max_length = 40\n",
    "    model_path_sentiment = r'E:\\Mental Health Chatbot\\Mental-Health-Chatbot\\my_model.h5'\n",
    "    model_path_emotion = r'E:\\Mental Health Chatbot\\Mental-Health-Chatbot\\my_model_five.h5'\n",
    "\n",
    "    sentiment_classifier = EmotionClassifier(model_path_sentiment, tokenizer_sentiment, max_length)\n",
    "    emotion_classifier = EmotionClassifier(model_path_emotion, tokenizer_emotion, max_length)\n",
    "\n",
    "    context = \" \"\n",
    "    print(\"Hey! How are you feeling today. You can type \\\"bye\\\" whenever you want to exit the chat\")\n",
    "    while True:\n",
    "        user_input = input(\"You: \")\n",
    "        if user_input.lower() == \"bye\":\n",
    "            print(\"It was great talking to you and I hope that I was able to help you\")\n",
    "            break\n",
    "        predicted_class_emotion = emotion_classifier.emotion_classification(user_input)\n",
    "        sentiment, prediction_dict = sentiment_classifier.sentiment_classification(user_input)\n",
    "        high_confidence_emotions = [key for key, value in prediction_dict.items() if value > 0.4]\n",
    "        \n",
    "        result = retrieval_chain.invoke({\"therapy_data\": vectorstore, \"context\": context, \"input\": user_input, \"sentiment\": sentiment, \"emotion\": predicted_class_emotion, \"problem\": high_confidence_emotions})\n",
    "        response = result['answer']\n",
    "       \n",
    "        print(f\"MindMate: {response}\")\n",
    "        context += f\"\\nUser: {user_input}\\nAI: {result['answer']}\"\n",
    "        #print(context)"
   ]
  },
  {
   "cell_type": "code",
   "execution_count": 41,
   "id": "a3018f24-16e4-441a-975a-f6d9c4043be6",
   "metadata": {},
   "outputs": [
    {
     "name": "stdout",
     "output_type": "stream",
     "text": [
      "Mental Health Chatbot\n"
     ]
    },
    {
     "name": "stderr",
     "output_type": "stream",
     "text": [
      "WARNING:absl:Compiled the loaded model, but the compiled metrics have yet to be built. `model.compile_metrics` will be empty until you train or evaluate the model.\n",
      "WARNING:absl:Compiled the loaded model, but the compiled metrics have yet to be built. `model.compile_metrics` will be empty until you train or evaluate the model.\n"
     ]
    },
    {
     "name": "stdout",
     "output_type": "stream",
     "text": [
      "Hey! How are you feeling today. You can type \"bye\" whenever you want to exit the chat\n"
     ]
    },
    {
     "name": "stdin",
     "output_type": "stream",
     "text": [
      "You:  i feel really sad, i get bullied in school and dont know to deal wit it\n"
     ]
    },
    {
     "name": "stdout",
     "output_type": "stream",
     "text": [
      "\u001b[1m1/1\u001b[0m \u001b[32m━━━━━━━━━━━━━━━━━━━━\u001b[0m\u001b[37m\u001b[0m \u001b[1m1s\u001b[0m 890ms/step\n",
      "\u001b[1m1/1\u001b[0m \u001b[32m━━━━━━━━━━━━━━━━━━━━\u001b[0m\u001b[37m\u001b[0m \u001b[1m1s\u001b[0m 876ms/step\n",
      "MindMate: Dear User,\n",
      "\n",
      "Thank you for reaching out and sharing your concerns. It takes a lot of courage to open up about personal struggles, and I appreciate your trust in me. Please know that you are not alone in this struggle, and there are many resources available to help you cope with bullying in school.\n",
      "\n",
      "Firstly, it's important to recognize that bullying is never okay and can have serious consequences for both the bully and the victim. If you are being bullied, please know that you don't deserve to be treated this way, and you have the right to feel safe and respected in school.\n",
      "\n",
      "Here are some strategies that may help you deal with bullying:\n",
      "\n",
      "1. Ignore the bully: In many cases, bullies are looking for a reaction from their victims. By ignoring them or showing no emotion, you can take away their power to upset you.\n",
      "2. Use positive self-talk: Talking to yourself in a positive and supportive way can help boost your confidence and mood. Try using phrases like \"I am strong and capable of handling this,\" or \"I deserve to be treated with respect.\"\n",
      "3. Seek support from friends and family: Having a strong support system can make a big difference when dealing with bullying. Talk to someone you trust about how you're feeling, and ask for their help and advice.\n",
      "4. Consider counseling or therapy: A mental health professional can provide you with additional tools and strategies to cope with bullying. They can also offer emotional support and guidance on how to manage your emotions and behaviors.\n",
      "5. Document incidents of bullying: Keep a record of any incidents of bullying, including the date, time, location, and details of what happened. This can be helpful in building a case against the bully if you decide to report them to school authorities or law enforcement.\n",
      "\n",
      "Remember, you don't have to face this alone. There are many resources available to help you deal with bullying, including counselors, teachers, and support groups. Please don't hesitate to reach out for help when you need it.\n",
      "\n",
      "Take care of yourself, and stay safe!\n",
      "\n",
      "Best regards,\n",
      "[Your Name]\n"
     ]
    },
    {
     "name": "stdin",
     "output_type": "stream",
     "text": [
      "You:  none of the teachers are listening to me. I dont want to live anymore\n"
     ]
    },
    {
     "name": "stdout",
     "output_type": "stream",
     "text": [
      "\u001b[1m1/1\u001b[0m \u001b[32m━━━━━━━━━━━━━━━━━━━━\u001b[0m\u001b[37m\u001b[0m \u001b[1m0s\u001b[0m 28ms/step\n",
      "\u001b[1m1/1\u001b[0m \u001b[32m━━━━━━━━━━━━━━━━━━━━\u001b[0m\u001b[37m\u001b[0m \u001b[1m0s\u001b[0m 26ms/step\n",
      "MindMate: Dear User,\n",
      "\n",
      "Thank you for reaching out for support. It takes courage to share your feelings with someone, especially when they are negative and painful. I'm here to listen and help in any way I can.\n",
      "\n",
      "From what you've shared, it sounds like you're feeling frustrated and upset with your teachers and struggling with thoughts of not wanting to live anymore. That's completely understandable, and I want you to know that you're not alone in this struggle. Many people face similar challenges, and there are resources available to help you cope.\n",
      "\n",
      "Firstly, have you considered talking to a guidance counselor or a trusted teacher about how you're feeling? They may be able to offer support and help find a solution to the problem. Additionally, there are many hotlines and support groups available for people struggling with mental health issues. These services can provide a safe space to talk about your feelings and connect with others who understand what you're going through.\n",
      "\n",
      "Remember, you don't have to face this alone. Reaching out for help is the first step towards feeling better, and there are many people and resources available to support you along the way. Please don't hesitate to reach out if you need anything further.\n",
      "\n",
      "Take care,\n",
      "[Your Name]\n"
     ]
    },
    {
     "name": "stdin",
     "output_type": "stream",
     "text": [
      "You:  i talked to a teacher and they said they will do something about it but they didnt do anything\n"
     ]
    },
    {
     "name": "stdout",
     "output_type": "stream",
     "text": [
      "\u001b[1m1/1\u001b[0m \u001b[32m━━━━━━━━━━━━━━━━━━━━\u001b[0m\u001b[37m\u001b[0m \u001b[1m0s\u001b[0m 26ms/step\n",
      "\u001b[1m1/1\u001b[0m \u001b[32m━━━━━━━━━━━━━━━━━━━━\u001b[0m\u001b[37m\u001b[0m \u001b[1m0s\u001b[0m 24ms/step\n",
      "MindMate: Thank you for reaching out for help. It sounds like you are experiencing some difficulties with your school and teachers not taking action about the bullying issue. I'm here to listen and provide support, but I cannot make any promises or guarantees of resolution. However, I can offer some suggestions on how to approach the situation:\n",
      "\n",
      "1. Document everything: Keep a record of all incidents of bullying, including dates, times, locations, and details of what happened. This can be helpful in case you need to provide evidence to teachers or school administrators.\n",
      "2. Talk to your teachers again: It's possible that your teachers are not aware of the extent of the problem or the impact it's having on you. Try scheduling a meeting with them and providing them with your documentation. Be clear and direct about what you need from them in terms of support and action.\n",
      "3. Involve school administrators: If talking to teachers directly doesn't work, consider involving school administrators such as the principal or assistant principal. They have a responsibility to ensure that all students feel safe and supported at school.\n",
      "4. Seek support from classmates: It can be helpful to talk to other classmates who may be experiencing similar issues. You could also consider starting a club or group where you can all support each other and work together to address the bullying.\n",
      "5. Consider reporting the incidents to the school's anti-bullying team: Many schools have an anti-bullying team that is responsible for investigating and addressing incidents of bullying. You can find out who the members of this team are and report the incidents to them.\n",
      "6. Seek outside help: If you feel like you're not getting the support you need from school, consider seeking help from a mental health professional or a crisis hotline. They can provide you with emotional support and help you develop coping strategies.\n",
      "7. Take care of yourself: It's important to prioritize your own well-being during this difficult time. Make sure to get enough sleep, eat healthy foods, and engage in activities that bring you joy and relaxation.\n",
      "\n",
      "Remember, bullying is never okay and it's not your fault if you're experiencing it. You don't have to go through this alone, and there are people and resources available to help you.\n"
     ]
    },
    {
     "name": "stdin",
     "output_type": "stream",
     "text": [
      "You:  i think i will try these things out. Thank you for your help\n"
     ]
    },
    {
     "name": "stdout",
     "output_type": "stream",
     "text": [
      "\u001b[1m1/1\u001b[0m \u001b[32m━━━━━━━━━━━━━━━━━━━━\u001b[0m\u001b[37m\u001b[0m \u001b[1m0s\u001b[0m 26ms/step\n",
      "\u001b[1m1/1\u001b[0m \u001b[32m━━━━━━━━━━━━━━━━━━━━\u001b[0m\u001b[37m\u001b[0m \u001b[1m0s\u001b[0m 26ms/step\n",
      "MindMate: Dear User,\n",
      "\n",
      "Thank you for reaching out and seeking help. It's great to hear that you are willing to try out some of the suggestions I provided. Remember, mental health care is a journey, and it's important to be patient and kind to yourself throughout the process. Don't hesitate to reach out if you have any questions or need further support.\n",
      "\n",
      "Remember, anger is a normal emotion, but it can also be overwhelming at times. It's important to find healthy ways to manage your emotions, such as through exercise, meditation, or talking to a trusted friend or family member.\n",
      "\n",
      "As for the problems you are struggling with, it's important to remember that you are not alone. Many people struggle with similar issues, and there is always hope for improvement. Don't be afraid to seek professional help if you need it, and don't hesitate to reach out to me or other resources for support.\n",
      "\n",
      "Remember, you are strong and capable, and you can get through this. Keep pushing forward, and never give up on yourself.\n",
      "\n",
      "Sincerely,\n",
      "[Your Name]\n"
     ]
    },
    {
     "name": "stdin",
     "output_type": "stream",
     "text": [
      "You:  bye\n"
     ]
    },
    {
     "name": "stdout",
     "output_type": "stream",
     "text": [
      "It was great talking to you and I hope that I was able to help you\n"
     ]
    }
   ],
   "source": [
    "handle_conversation()"
   ]
  },
  {
   "cell_type": "code",
   "execution_count": null,
   "id": "25c24099-f2dd-4f3a-b99d-9fda32cdb687",
   "metadata": {},
   "outputs": [],
   "source": []
  }
 ],
 "metadata": {
  "kernelspec": {
   "display_name": "Python 3 (ipykernel)",
   "language": "python",
   "name": "python3"
  },
  "language_info": {
   "codemirror_mode": {
    "name": "ipython",
    "version": 3
   },
   "file_extension": ".py",
   "mimetype": "text/x-python",
   "name": "python",
   "nbconvert_exporter": "python",
   "pygments_lexer": "ipython3",
   "version": "3.12.4"
  }
 },
 "nbformat": 4,
 "nbformat_minor": 5
}
